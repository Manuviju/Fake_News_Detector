{
 "cells": [
  {
   "cell_type": "code",
   "execution_count": 1,
   "id": "4f7436fb",
   "metadata": {},
   "outputs": [
    {
     "data": {
      "text/plain": [
       "<gensim.models.keyedvectors.KeyedVectors at 0x21186ba1460>"
      ]
     },
     "execution_count": 1,
     "metadata": {},
     "output_type": "execute_result"
    }
   ],
   "source": [
    "import gensim.downloader as api\n",
    "api.load(\"word2vec-google-news-300\")"
   ]
  },
  {
   "cell_type": "code",
   "execution_count": 2,
   "id": "a9194e15",
   "metadata": {},
   "outputs": [],
   "source": [
    "wc = api.load(\"word2vec-google-news-300\")"
   ]
  },
  {
   "cell_type": "code",
   "execution_count": 3,
   "id": "011c1438",
   "metadata": {},
   "outputs": [
    {
     "data": {
      "text/plain": [
       "0.5216034"
      ]
     },
     "execution_count": 3,
     "metadata": {},
     "output_type": "execute_result"
    }
   ],
   "source": [
    "wc.similarity(\"great\", \"best\")"
   ]
  },
  {
   "cell_type": "code",
   "execution_count": 8,
   "id": "c465f028",
   "metadata": {},
   "outputs": [
    {
     "data": {
      "text/plain": [
       "0.28772825"
      ]
     },
     "execution_count": 8,
     "metadata": {},
     "output_type": "execute_result"
    }
   ],
   "source": [
    "wc.similarity(w1=\"profit\", w2=\"gain\")"
   ]
  },
  {
   "cell_type": "code",
   "execution_count": 4,
   "id": "a77b498c",
   "metadata": {},
   "outputs": [
    {
     "data": {
      "text/plain": [
       "[('cats', 0.8099379539489746),\n",
       " ('dog', 0.760945737361908),\n",
       " ('kitten', 0.7464984655380249),\n",
       " ('feline', 0.7326233983039856),\n",
       " ('beagle', 0.7150582671165466),\n",
       " ('puppy', 0.7075453996658325),\n",
       " ('pup', 0.6934291124343872),\n",
       " ('pet', 0.6891531348228455),\n",
       " ('felines', 0.6755931377410889),\n",
       " ('chihuahua', 0.6709762215614319)]"
      ]
     },
     "execution_count": 4,
     "metadata": {},
     "output_type": "execute_result"
    }
   ],
   "source": [
    "wc.most_similar(\"cat\")"
   ]
  },
  {
   "cell_type": "code",
   "execution_count": 24,
   "id": "ac471242",
   "metadata": {},
   "outputs": [
    {
     "data": {
      "text/plain": [
       "[('DC_Comics', 0.6781161427497864),\n",
       " ('Marvel_Comics', 0.6171078085899353),\n",
       " ('Superman_Batman', 0.5959319472312927),\n",
       " ('DC_Universe', 0.5888250470161438),\n",
       " ('comic_book', 0.5859229564666748),\n",
       " ('Nightwing', 0.5825390815734863),\n",
       " ('Superman', 0.5651789903640747),\n",
       " ('Wildstorm', 0.5521717071533203),\n",
       " ('Marvel_comics', 0.5504581928253174),\n",
       " ('superhero_comics', 0.5430452823638916)]"
      ]
     },
     "execution_count": 24,
     "metadata": {},
     "output_type": "execute_result"
    }
   ],
   "source": [
    "wc.most_similar(positive=[\"Marvel\", \"Batman\"], negative=[\"Ironman\"])"
   ]
  },
  {
   "cell_type": "code",
   "execution_count": 29,
   "id": "e661f302",
   "metadata": {},
   "outputs": [
    {
     "data": {
      "text/plain": [
       "'iphone'"
      ]
     },
     "execution_count": 29,
     "metadata": {},
     "output_type": "execute_result"
    }
   ],
   "source": [
    "wc.doesnt_match([\"iphone\", \"K20Pro\", \"OnePlus\", \"GalaxyS6\", \"Oppo\"])"
   ]
  },
  {
   "cell_type": "code",
   "execution_count": 30,
   "id": "3e9b18ab",
   "metadata": {},
   "outputs": [
    {
     "name": "stdout",
     "output_type": "stream",
     "text": [
      "[==================================================] 100.0% 104.8/104.8MB downloaded\n"
     ]
    }
   ],
   "source": [
    "glv = api.load(\"glove-twitter-25\")"
   ]
  },
  {
   "cell_type": "code",
   "execution_count": 42,
   "id": "1ab37856",
   "metadata": {},
   "outputs": [
    {
     "data": {
      "text/plain": [
       "[('aka', 0.9466415643692017),\n",
       " ('boy', 0.9414403438568115),\n",
       " ('kid', 0.9365534782409668),\n",
       " ('queen', 0.9336324334144592),\n",
       " ('girl', 0.9245244264602661),\n",
       " ('brother', 0.9188659191131592),\n",
       " ('king', 0.9163240194320679),\n",
       " ('little', 0.9138977527618408),\n",
       " ('old', 0.9097815752029419),\n",
       " ('big', 0.907889187335968)]"
      ]
     },
     "execution_count": 42,
     "metadata": {},
     "output_type": "execute_result"
    }
   ],
   "source": [
    "glv.most_similar(\"lady\")"
   ]
  },
  {
   "cell_type": "code",
   "execution_count": 48,
   "id": "86350cf6",
   "metadata": {},
   "outputs": [
    {
     "data": {
      "text/plain": [
       "'carot'"
      ]
     },
     "execution_count": 48,
     "metadata": {},
     "output_type": "execute_result"
    }
   ],
   "source": [
    "glv.doesnt_match(\"orange mango grape banana carot\".split())"
   ]
  },
  {
   "cell_type": "code",
   "execution_count": 51,
   "id": "6c09db7e",
   "metadata": {},
   "outputs": [
    {
     "data": {
      "text/plain": [
       "['orange', 'mango', 'grape', 'banana', 'carot']"
      ]
     },
     "execution_count": 51,
     "metadata": {},
     "output_type": "execute_result"
    }
   ],
   "source": [
    "c = \"orange mango grape banana carot\".split()\n",
    "c"
   ]
  },
  {
   "cell_type": "code",
   "execution_count": 61,
   "id": "ab21f29e",
   "metadata": {},
   "outputs": [
    {
     "data": {
      "text/plain": [
       "'orange mango grape banana carot'"
      ]
     },
     "execution_count": 61,
     "metadata": {},
     "output_type": "execute_result"
    }
   ],
   "source": [
    "\" \".join(c)"
   ]
  },
  {
   "cell_type": "code",
   "execution_count": 5,
   "id": "67af8434",
   "metadata": {},
   "outputs": [],
   "source": [
    "import pandas as pd\n",
    "df = pd.read_csv(r\"C:\\Users\\Manu_workbook\\Desktop\\nlp\\nlp-tutorials\\16_word_vectors_gensim_text_classification\\fake_and_real_news.csv\")"
   ]
  },
  {
   "cell_type": "code",
   "execution_count": 6,
   "id": "b4e65b4a",
   "metadata": {},
   "outputs": [
    {
     "data": {
      "text/html": [
       "<div>\n",
       "<style scoped>\n",
       "    .dataframe tbody tr th:only-of-type {\n",
       "        vertical-align: middle;\n",
       "    }\n",
       "\n",
       "    .dataframe tbody tr th {\n",
       "        vertical-align: top;\n",
       "    }\n",
       "\n",
       "    .dataframe thead th {\n",
       "        text-align: right;\n",
       "    }\n",
       "</style>\n",
       "<table border=\"1\" class=\"dataframe\">\n",
       "  <thead>\n",
       "    <tr style=\"text-align: right;\">\n",
       "      <th></th>\n",
       "      <th>Text</th>\n",
       "      <th>label</th>\n",
       "    </tr>\n",
       "  </thead>\n",
       "  <tbody>\n",
       "    <tr>\n",
       "      <th>0</th>\n",
       "      <td>Top Trump Surrogate BRUTALLY Stabs Him In The...</td>\n",
       "      <td>Fake</td>\n",
       "    </tr>\n",
       "    <tr>\n",
       "      <th>1</th>\n",
       "      <td>U.S. conservative leader optimistic of common ...</td>\n",
       "      <td>Real</td>\n",
       "    </tr>\n",
       "    <tr>\n",
       "      <th>2</th>\n",
       "      <td>Trump proposes U.S. tax overhaul, stirs concer...</td>\n",
       "      <td>Real</td>\n",
       "    </tr>\n",
       "    <tr>\n",
       "      <th>3</th>\n",
       "      <td>Court Forces Ohio To Allow Millions Of Illega...</td>\n",
       "      <td>Fake</td>\n",
       "    </tr>\n",
       "    <tr>\n",
       "      <th>4</th>\n",
       "      <td>Democrats say Trump agrees to work on immigrat...</td>\n",
       "      <td>Real</td>\n",
       "    </tr>\n",
       "  </tbody>\n",
       "</table>\n",
       "</div>"
      ],
      "text/plain": [
       "                                                Text label\n",
       "0   Top Trump Surrogate BRUTALLY Stabs Him In The...  Fake\n",
       "1  U.S. conservative leader optimistic of common ...  Real\n",
       "2  Trump proposes U.S. tax overhaul, stirs concer...  Real\n",
       "3   Court Forces Ohio To Allow Millions Of Illega...  Fake\n",
       "4  Democrats say Trump agrees to work on immigrat...  Real"
      ]
     },
     "execution_count": 6,
     "metadata": {},
     "output_type": "execute_result"
    }
   ],
   "source": [
    "df.head()"
   ]
  },
  {
   "cell_type": "code",
   "execution_count": 89,
   "id": "a4067eaa",
   "metadata": {},
   "outputs": [
    {
     "data": {
      "text/plain": [
       "Fake    5000\n",
       "Real    4900\n",
       "Name: label, dtype: int64"
      ]
     },
     "execution_count": 89,
     "metadata": {},
     "output_type": "execute_result"
    }
   ],
   "source": [
    "df.label.value_counts()"
   ]
  },
  {
   "cell_type": "code",
   "execution_count": 7,
   "id": "2d7b7aa0",
   "metadata": {},
   "outputs": [],
   "source": [
    "df['label_num'] = df.label.map({\"Fake\": 0, \"Real\": 1})"
   ]
  },
  {
   "cell_type": "code",
   "execution_count": 8,
   "id": "5a8f5b09",
   "metadata": {},
   "outputs": [
    {
     "data": {
      "text/html": [
       "<div>\n",
       "<style scoped>\n",
       "    .dataframe tbody tr th:only-of-type {\n",
       "        vertical-align: middle;\n",
       "    }\n",
       "\n",
       "    .dataframe tbody tr th {\n",
       "        vertical-align: top;\n",
       "    }\n",
       "\n",
       "    .dataframe thead th {\n",
       "        text-align: right;\n",
       "    }\n",
       "</style>\n",
       "<table border=\"1\" class=\"dataframe\">\n",
       "  <thead>\n",
       "    <tr style=\"text-align: right;\">\n",
       "      <th></th>\n",
       "      <th>Text</th>\n",
       "      <th>label</th>\n",
       "      <th>label_num</th>\n",
       "    </tr>\n",
       "  </thead>\n",
       "  <tbody>\n",
       "    <tr>\n",
       "      <th>0</th>\n",
       "      <td>Top Trump Surrogate BRUTALLY Stabs Him In The...</td>\n",
       "      <td>Fake</td>\n",
       "      <td>0</td>\n",
       "    </tr>\n",
       "    <tr>\n",
       "      <th>1</th>\n",
       "      <td>U.S. conservative leader optimistic of common ...</td>\n",
       "      <td>Real</td>\n",
       "      <td>1</td>\n",
       "    </tr>\n",
       "    <tr>\n",
       "      <th>2</th>\n",
       "      <td>Trump proposes U.S. tax overhaul, stirs concer...</td>\n",
       "      <td>Real</td>\n",
       "      <td>1</td>\n",
       "    </tr>\n",
       "    <tr>\n",
       "      <th>3</th>\n",
       "      <td>Court Forces Ohio To Allow Millions Of Illega...</td>\n",
       "      <td>Fake</td>\n",
       "      <td>0</td>\n",
       "    </tr>\n",
       "    <tr>\n",
       "      <th>4</th>\n",
       "      <td>Democrats say Trump agrees to work on immigrat...</td>\n",
       "      <td>Real</td>\n",
       "      <td>1</td>\n",
       "    </tr>\n",
       "  </tbody>\n",
       "</table>\n",
       "</div>"
      ],
      "text/plain": [
       "                                                Text label  label_num\n",
       "0   Top Trump Surrogate BRUTALLY Stabs Him In The...  Fake          0\n",
       "1  U.S. conservative leader optimistic of common ...  Real          1\n",
       "2  Trump proposes U.S. tax overhaul, stirs concer...  Real          1\n",
       "3   Court Forces Ohio To Allow Millions Of Illega...  Fake          0\n",
       "4  Democrats say Trump agrees to work on immigrat...  Real          1"
      ]
     },
     "execution_count": 8,
     "metadata": {},
     "output_type": "execute_result"
    }
   ],
   "source": [
    "df.head()"
   ]
  },
  {
   "cell_type": "code",
   "execution_count": 92,
   "id": "d607c124",
   "metadata": {},
   "outputs": [
    {
     "data": {
      "text/plain": [
       "'U.S. conservative leader optimistic of common ground on healthcare WASHINGTON (Reuters) - Republicans in the U.S. House of Representatives could achieve common ground on a deal to win support for healthcare legislation on Thursday, after President Donald Trump intervened in negotiations, a conservative leader said on Wednesday. “We’re not there yet, but we’re very optimistic that if we work around the clock between now and Noon tomorrow, that we’re going to be able to hopefully find some common ground,” Representative Mark Meadows, chairman of the conservative House Freedom Caucus, told reporters. Meadows’ group has opposed House Republican healthcare legislation up to now and threatened earlier in the day to block its passage in a Thursday vote.  '"
      ]
     },
     "execution_count": 92,
     "metadata": {},
     "output_type": "execute_result"
    }
   ],
   "source": [
    "df.Text[1]"
   ]
  },
  {
   "cell_type": "code",
   "execution_count": 9,
   "id": "08eb4140",
   "metadata": {},
   "outputs": [],
   "source": [
    "import spacy\n",
    "nlp = spacy.load(\"en_core_web_lg\")\n",
    "def preprocess_and_vectorize(text):\n",
    "    doc = nlp(text)\n",
    "    filtered_token = []\n",
    "    for token in doc:\n",
    "        if token.is_stop or token.is_punct:\n",
    "            continue\n",
    "        filtered_token.append(token.lemma_)\n",
    "        \n",
    "    return wc.get_mean_vector(filtered_token)"
   ]
  },
  {
   "cell_type": "code",
   "execution_count": 12,
   "id": "cb4a3c4e",
   "metadata": {},
   "outputs": [
    {
     "data": {
      "text/plain": [
       "(300,)"
      ]
     },
     "execution_count": 12,
     "metadata": {},
     "output_type": "execute_result"
    }
   ],
   "source": [
    "preprocess_and_vectorize(\"king\").shape"
   ]
  },
  {
   "cell_type": "code",
   "execution_count": 13,
   "id": "6f6ffbe4",
   "metadata": {},
   "outputs": [
    {
     "data": {
      "text/plain": [
       "(300,)"
      ]
     },
     "execution_count": 13,
     "metadata": {},
     "output_type": "execute_result"
    }
   ],
   "source": [
    "preprocess_and_vectorize(\"U.S. conservative leader optimistic of common ground on healthcare WASHINGTON (Reuters) - Republicans in the U.S. House of Representatives could achieve common ground on a deal to win support for healthcare legislation on Thursday, after President Donald Trump intervened in negotiations, a conservative leader said on Wednesday. “We’re not there yet, but we’re very optimistic that if we work around the clock between now and Noon tomorrow, that we’re going to be able to hopefully find some common ground,” Representative Mark Meadows, chairman of the conservative House Freedom Caucus, told reporters. Meadows’ group has opposed House Republican healthcare legislation up to now and threatened earlier in the day to block its passage in a Thursday vote. \").shape"
   ]
  },
  {
   "cell_type": "code",
   "execution_count": 14,
   "id": "048d5821",
   "metadata": {},
   "outputs": [],
   "source": [
    "df['vector'] = df.Text.apply(lambda x: preprocess_and_vectorize(x))"
   ]
  },
  {
   "cell_type": "code",
   "execution_count": 15,
   "id": "0943d91b",
   "metadata": {},
   "outputs": [
    {
     "data": {
      "text/html": [
       "<div>\n",
       "<style scoped>\n",
       "    .dataframe tbody tr th:only-of-type {\n",
       "        vertical-align: middle;\n",
       "    }\n",
       "\n",
       "    .dataframe tbody tr th {\n",
       "        vertical-align: top;\n",
       "    }\n",
       "\n",
       "    .dataframe thead th {\n",
       "        text-align: right;\n",
       "    }\n",
       "</style>\n",
       "<table border=\"1\" class=\"dataframe\">\n",
       "  <thead>\n",
       "    <tr style=\"text-align: right;\">\n",
       "      <th></th>\n",
       "      <th>Text</th>\n",
       "      <th>label</th>\n",
       "      <th>label_num</th>\n",
       "      <th>vector</th>\n",
       "    </tr>\n",
       "  </thead>\n",
       "  <tbody>\n",
       "    <tr>\n",
       "      <th>0</th>\n",
       "      <td>Top Trump Surrogate BRUTALLY Stabs Him In The...</td>\n",
       "      <td>Fake</td>\n",
       "      <td>0</td>\n",
       "      <td>[0.008145372, 0.019952843, -0.00989356, 0.0344...</td>\n",
       "    </tr>\n",
       "    <tr>\n",
       "      <th>1</th>\n",
       "      <td>U.S. conservative leader optimistic of common ...</td>\n",
       "      <td>Real</td>\n",
       "      <td>1</td>\n",
       "      <td>[0.00861828, 0.007408227, 0.0007675802, 0.0138...</td>\n",
       "    </tr>\n",
       "    <tr>\n",
       "      <th>2</th>\n",
       "      <td>Trump proposes U.S. tax overhaul, stirs concer...</td>\n",
       "      <td>Real</td>\n",
       "      <td>1</td>\n",
       "      <td>[0.01823076, 0.0063306373, -0.0058634086, 0.03...</td>\n",
       "    </tr>\n",
       "    <tr>\n",
       "      <th>3</th>\n",
       "      <td>Court Forces Ohio To Allow Millions Of Illega...</td>\n",
       "      <td>Fake</td>\n",
       "      <td>0</td>\n",
       "      <td>[0.012453172, 0.0122098895, 6.3027373e-06, 0.0...</td>\n",
       "    </tr>\n",
       "    <tr>\n",
       "      <th>4</th>\n",
       "      <td>Democrats say Trump agrees to work on immigrat...</td>\n",
       "      <td>Real</td>\n",
       "      <td>1</td>\n",
       "      <td>[-0.0022669104, 0.011340516, 0.003596399, 0.02...</td>\n",
       "    </tr>\n",
       "  </tbody>\n",
       "</table>\n",
       "</div>"
      ],
      "text/plain": [
       "                                                Text label  label_num  \\\n",
       "0   Top Trump Surrogate BRUTALLY Stabs Him In The...  Fake          0   \n",
       "1  U.S. conservative leader optimistic of common ...  Real          1   \n",
       "2  Trump proposes U.S. tax overhaul, stirs concer...  Real          1   \n",
       "3   Court Forces Ohio To Allow Millions Of Illega...  Fake          0   \n",
       "4  Democrats say Trump agrees to work on immigrat...  Real          1   \n",
       "\n",
       "                                              vector  \n",
       "0  [0.008145372, 0.019952843, -0.00989356, 0.0344...  \n",
       "1  [0.00861828, 0.007408227, 0.0007675802, 0.0138...  \n",
       "2  [0.01823076, 0.0063306373, -0.0058634086, 0.03...  \n",
       "3  [0.012453172, 0.0122098895, 6.3027373e-06, 0.0...  \n",
       "4  [-0.0022669104, 0.011340516, 0.003596399, 0.02...  "
      ]
     },
     "execution_count": 15,
     "metadata": {},
     "output_type": "execute_result"
    }
   ],
   "source": [
    "df.head()"
   ]
  },
  {
   "cell_type": "code",
   "execution_count": 17,
   "id": "5769a37c",
   "metadata": {},
   "outputs": [],
   "source": [
    "df.to_csv(\"fake_real_new_vectors.csv\", index = False)"
   ]
  },
  {
   "cell_type": "code",
   "execution_count": 18,
   "id": "caca9e86",
   "metadata": {},
   "outputs": [
    {
     "data": {
      "text/plain": [
       "0    [0.008145372, 0.019952843, -0.00989356, 0.0344...\n",
       "1    [0.00861828, 0.007408227, 0.0007675802, 0.0138...\n",
       "Name: vector, dtype: object"
      ]
     },
     "execution_count": 18,
     "metadata": {},
     "output_type": "execute_result"
    }
   ],
   "source": [
    "df.vector[:2]"
   ]
  },
  {
   "cell_type": "code",
   "execution_count": 19,
   "id": "3d709472",
   "metadata": {},
   "outputs": [],
   "source": [
    "from sklearn.model_selection import train_test_split\n",
    "X_train, X_test, y_train, y_test = train_test_split(\n",
    "    df.vector.values, \n",
    "    df.label_num,\n",
    "    test_size=0.2, # 20% samples will go to test dataset\n",
    "    random_state=2022,\n",
    "    stratify=df.label_num\n",
    ")"
   ]
  },
  {
   "cell_type": "code",
   "execution_count": 20,
   "id": "f0d90660",
   "metadata": {},
   "outputs": [
    {
     "data": {
      "text/plain": [
       "array([array([-2.58219568e-03,  6.66544260e-03,  2.52646767e-03,  3.95730063e-02,\n",
       "              -1.41182542e-02, -7.22123589e-03,  3.15938070e-02, -3.18326391e-02,\n",
       "               1.62770562e-02,  2.15391051e-02, -2.36972049e-02, -3.72144543e-02,\n",
       "              -6.70092739e-03,  1.64224133e-02, -2.48180293e-02,  4.60469536e-02,\n",
       "               6.02065027e-03,  2.53213309e-02,  4.08343738e-03, -3.32745500e-02,\n",
       "               6.01468608e-03,  1.92604307e-02,  4.28487025e-02, -2.15403945e-03,\n",
       "               2.04510838e-02,  3.04712215e-03, -2.73784697e-02, -1.53319014e-03,\n",
       "               6.67838380e-03, -3.27401888e-03, -1.53824072e-02,  9.19036320e-05,\n",
       "              -2.74383668e-02, -3.54807038e-04, -1.12002371e-02, -1.66487973e-02,\n",
       "               1.40579836e-02,  2.69189221e-03, -4.44610231e-03,  3.41382883e-02,\n",
       "               5.02199680e-03, -1.35964267e-02,  4.29993980e-02,  1.10096289e-02,\n",
       "              -5.67582203e-03, -1.63680799e-02, -2.08231565e-02,  8.67405720e-03,\n",
       "              -1.27506657e-02,  3.22506502e-02, -1.29026920e-02,  2.64204424e-02,\n",
       "              -4.90747951e-03, -4.95679071e-03,  3.24445846e-03,  5.05160249e-04,\n",
       "              -1.06441928e-02, -2.69884747e-02, -9.40681156e-03, -3.02510597e-02,\n",
       "               6.06752140e-03,  2.97850110e-02, -2.75506414e-02, -1.17566157e-03,\n",
       "               1.70167554e-02, -1.53231900e-02, -2.12831516e-02, -6.69188192e-03,\n",
       "              -3.28447693e-03,  2.26514768e-02,  1.15149254e-02,  1.44865084e-03,\n",
       "               2.79989429e-02,  2.49321526e-03, -2.24706046e-02, -2.50821244e-02,\n",
       "               9.00601223e-03,  1.73658188e-02,  2.09767334e-02,  3.03668417e-02,\n",
       "              -1.38382493e-02, -2.01829318e-02,  1.25048012e-02, -5.96598722e-03,\n",
       "              -9.37698036e-03, -2.76826620e-02, -3.20913680e-02,  5.39542213e-02,\n",
       "               1.66598021e-03,  4.34976909e-03,  5.92936715e-03, -1.17840115e-02,\n",
       "              -4.50106449e-02, -2.10491549e-02, -7.83731975e-03, -3.38384211e-02,\n",
       "               1.77004468e-02,  1.65641699e-02,  1.81579106e-02, -1.59047600e-02,\n",
       "              -1.97536778e-02, -1.95956491e-02,  3.34207085e-03,  5.66034287e-04,\n",
       "              -1.82805564e-02, -5.11482451e-03,  1.91473309e-03, -2.90830061e-02,\n",
       "              -4.02855873e-03, -1.70079172e-02, -2.80600488e-02, -2.30379254e-02,\n",
       "               3.85570107e-03, -4.13628295e-03,  3.18104029e-02, -7.97387213e-03,\n",
       "               2.08447948e-02, -2.53612529e-02,  2.59634871e-02,  9.27834585e-03,\n",
       "              -2.49574985e-02, -1.68696162e-03, -1.31695597e-02,  3.27412300e-02,\n",
       "              -9.09329578e-03, -9.97136813e-03, -1.87872127e-02, -1.40376640e-02,\n",
       "               2.25356244e-03,  1.18356198e-02, -1.46980733e-02, -1.03703476e-02,\n",
       "              -9.65756085e-03,  2.03495752e-03, -1.37474597e-03,  6.44901593e-04,\n",
       "               8.42744485e-04,  9.56854783e-03,  1.62692107e-02,  2.09762473e-02,\n",
       "               1.75422449e-02, -3.16296630e-02,  5.90677382e-06, -2.29953676e-02,\n",
       "               6.40219403e-03,  1.87074654e-02, -9.91857960e-04, -1.86910927e-02,\n",
       "              -2.17829552e-02, -9.49366670e-03,  2.86281612e-02,  3.71174840e-03,\n",
       "              -1.77340824e-02,  9.86514892e-03, -9.20616928e-03, -1.98866650e-02,\n",
       "              -1.91071425e-02, -2.04391424e-02, -3.09219416e-02, -1.72982889e-03,\n",
       "              -1.07584614e-02,  1.39104780e-02,  2.45051328e-02,  3.70833022e-03,\n",
       "               2.79449136e-03, -3.55861522e-02,  3.36412825e-02, -2.76993625e-02,\n",
       "               1.65360924e-02,  1.39565663e-02, -4.55296002e-02, -1.55951101e-02,\n",
       "               3.87999811e-03, -3.82097885e-02, -2.24316940e-02,  1.71218568e-03,\n",
       "               4.88877147e-02, -1.15567949e-02, -1.87324528e-02,  1.31809525e-03,\n",
       "              -3.80796418e-02, -3.36076878e-02,  2.78875028e-04,  1.28483062e-03,\n",
       "               7.60526350e-03, -2.05869917e-02,  1.58092240e-03,  7.51892757e-03,\n",
       "               7.68930838e-03,  1.25378063e-02,  1.36432834e-02,  1.14829717e-02,\n",
       "               1.41548784e-02, -4.13198257e-03, -1.49158137e-02,  2.08327454e-02,\n",
       "              -2.84223375e-03, -1.58541873e-02, -1.04070315e-02, -3.68304327e-02,\n",
       "              -4.91411285e-03,  1.87549163e-02, -3.40520777e-02, -1.62067097e-02,\n",
       "               5.68619184e-03, -8.47611111e-03, -1.11561473e-02,  3.54032358e-03,\n",
       "              -1.16867870e-02, -1.37257082e-02, -1.94537435e-02,  2.42985766e-02,\n",
       "              -1.35805095e-02,  1.61051843e-02, -2.10284349e-02,  1.16373412e-02,\n",
       "               1.96997579e-02,  9.77004319e-03, -1.66528262e-02, -7.03769503e-03,\n",
       "              -1.81460963e-03,  7.39465700e-03, -7.26237474e-03, -1.74880668e-03,\n",
       "               1.77141968e-02, -1.75314303e-02,  2.42351256e-02,  1.62910130e-02,\n",
       "               1.78544186e-02, -1.56693615e-03,  3.79178370e-03, -2.79820003e-02,\n",
       "              -2.02034432e-02,  8.82263109e-03,  3.21880840e-02, -9.67869069e-03,\n",
       "               4.31459816e-03, -1.42114758e-02,  2.08534133e-02, -4.28876933e-03,\n",
       "               2.28563286e-02, -1.60417296e-02, -5.78556443e-03, -2.37584747e-02,\n",
       "               8.75278004e-03,  1.60861202e-02, -8.45332761e-05,  2.10649539e-02,\n",
       "              -1.66019727e-05, -1.88836530e-02, -7.06376787e-03,  5.08249458e-03,\n",
       "               2.84847282e-02,  1.59216225e-02,  1.74269099e-02, -2.39274707e-02,\n",
       "              -5.86959031e-05, -5.77230332e-03, -2.36098450e-02, -2.45136973e-02,\n",
       "              -1.02915857e-02,  8.43222812e-03, -3.07602398e-02,  1.54398857e-02,\n",
       "               1.55886393e-02,  2.81415936e-02, -2.85637062e-02,  1.80450315e-03,\n",
       "              -3.09008081e-02, -1.18106315e-02,  3.28004290e-03,  4.91940342e-02,\n",
       "               3.65938395e-02, -6.09787356e-04,  2.48469375e-02, -1.50327878e-02,\n",
       "              -7.36492546e-03, -3.35881002e-02, -2.00746804e-02, -4.90521546e-03,\n",
       "               6.53967867e-03, -6.76556863e-03,  6.88001327e-03,  2.16812659e-02,\n",
       "              -7.28771463e-03, -1.14062512e-02, -4.03991155e-02,  1.94410849e-02,\n",
       "              -1.40634703e-03,  1.64838545e-02, -1.48565881e-02,  2.08342960e-03,\n",
       "              -3.16918269e-02,  5.97297307e-03, -3.67120816e-03, -3.15995738e-02,\n",
       "              -7.82863528e-04, -1.25296628e-02,  6.69139950e-03, -7.04595260e-03],\n",
       "             dtype=float32)                                                       ,\n",
       "       array([ 7.28763547e-03,  3.28591722e-03, -1.76356733e-02,  2.49702036e-02,\n",
       "              -2.40998417e-02, -1.08386893e-02,  1.28730508e-02, -2.01091729e-02,\n",
       "               3.21058519e-02,  3.33256880e-03, -1.73338912e-02, -2.32069455e-02,\n",
       "              -6.75951689e-03,  1.71418227e-02, -4.57475856e-02,  2.80350763e-02,\n",
       "               2.67235078e-02,  3.46518382e-02, -4.21711802e-03, -3.40401120e-02,\n",
       "              -5.43016300e-04,  3.53292637e-02,  2.24285387e-02, -7.29980471e-04,\n",
       "               6.45533064e-03, -2.52923905e-03, -1.84560381e-02,  5.25924005e-03,\n",
       "               8.48482642e-03, -2.17411458e-03, -7.88976718e-03,  1.66191962e-02,\n",
       "              -3.44331451e-02, -8.28178320e-03,  1.44978510e-02, -9.03096795e-03,\n",
       "               2.87195947e-02,  1.17680682e-02,  1.37283048e-02,  2.19967067e-02,\n",
       "               2.14601308e-02, -1.27482675e-02,  3.24822515e-02,  9.53829568e-03,\n",
       "              -2.77939662e-02, -1.40518434e-02, -1.26358969e-02, -5.33568580e-03,\n",
       "               1.64068921e-03,  3.28243859e-02, -6.67716796e-03,  2.28792131e-02,\n",
       "              -9.78503749e-03, -1.16711657e-03,  2.27175299e-02,  9.72098485e-03,\n",
       "              -1.80747677e-02, -2.42694784e-02, -5.07058203e-03, -4.54996265e-02,\n",
       "               1.30525259e-02,  1.42407967e-02, -3.40836383e-02, -1.49889635e-02,\n",
       "               6.87785272e-04, -1.36505552e-02, -2.94100922e-02,  2.91053466e-02,\n",
       "              -8.58023483e-03,  2.12114826e-02,  1.39847286e-02, -1.86406472e-03,\n",
       "               3.29277702e-02, -2.99274549e-03, -3.70002985e-02, -1.00985728e-02,\n",
       "               2.62375642e-02,  1.71043091e-02,  2.16996856e-02,  3.42387185e-02,\n",
       "              -8.94584786e-03, -1.94122028e-02,  1.33905876e-02, -2.11497187e-03,\n",
       "              -2.12865300e-03, -1.89441498e-02, -4.03203070e-02,  4.49445546e-02,\n",
       "               1.72483537e-03, -5.49115473e-03,  4.18703072e-03, -2.22281204e-03,\n",
       "              -3.01682893e-02, -3.00497450e-02, -3.55509715e-03, -2.69279741e-02,\n",
       "               2.33761370e-02,  2.88459435e-02,  7.43983220e-03, -2.02638265e-02,\n",
       "              -2.71354876e-02, -8.45019892e-03, -1.11691095e-03,  1.07862130e-02,\n",
       "              -3.82262026e-03, -1.18721044e-02,  9.53995995e-03, -3.19728553e-02,\n",
       "              -1.82958459e-03, -2.04235651e-02, -2.56378073e-02, -9.11799259e-03,\n",
       "               4.36889357e-04, -6.15847670e-03,  3.20763364e-02, -9.73294140e-04,\n",
       "               1.68815944e-02, -1.70298144e-02,  3.06514297e-02,  4.69255308e-03,\n",
       "              -1.49996895e-02, -1.83053338e-03, -2.32427940e-02,  2.40388084e-02,\n",
       "               3.91222816e-03, -1.63963996e-02, -2.61237156e-02, -1.52049037e-02,\n",
       "               4.77043586e-03, -4.89840517e-03, -8.67426582e-03, -4.88926098e-02,\n",
       "               3.59012908e-03,  1.30377186e-03, -7.27719208e-03, -1.76105052e-02,\n",
       "               7.17509771e-04,  2.01045685e-02,  1.56680355e-03,  1.65781789e-02,\n",
       "               2.96982527e-02, -2.13394593e-02, -4.12975345e-03, -4.38926881e-03,\n",
       "               7.30411103e-03,  1.02627855e-02,  3.86083382e-03, -2.52380259e-02,\n",
       "              -1.52649395e-02, -7.41755543e-03,  3.39229591e-02,  9.17420629e-03,\n",
       "               3.50948516e-03,  4.75980015e-03, -1.20351659e-02, -3.70186637e-03,\n",
       "              -1.27514498e-02, -1.41630452e-02, -2.28877440e-02, -1.73334479e-02,\n",
       "              -2.05564802e-03,  1.79006830e-02,  2.12131049e-02,  2.57737339e-02,\n",
       "               9.40672215e-03, -5.02758771e-02,  2.09787730e-02, -2.84465812e-02,\n",
       "               1.73014663e-02,  9.60361492e-03, -2.53491979e-02, -8.17028526e-03,\n",
       "               1.02080535e-02, -3.94695438e-02, -8.31011403e-03, -1.20571780e-03,\n",
       "               4.04101275e-02, -2.87335645e-02, -2.08613239e-02,  3.64355743e-03,\n",
       "              -3.26793008e-02, -1.66151226e-02,  1.42306034e-02,  6.68392610e-03,\n",
       "              -7.45777553e-03, -1.35039352e-02, -1.00637162e-02, -1.92692096e-03,\n",
       "               2.25595925e-02,  1.98579896e-02,  1.21556856e-02,  1.50657995e-02,\n",
       "               2.69855484e-02,  8.70919693e-03, -9.68620367e-03, -1.34588714e-04,\n",
       "               5.43954922e-03, -3.58439796e-03, -1.05862329e-02, -2.30158977e-02,\n",
       "               1.29723661e-02,  1.11458488e-02, -1.63930263e-02, -4.95212292e-03,\n",
       "               1.44355875e-02, -9.45441332e-03, -2.96896696e-03,  1.38663854e-02,\n",
       "              -4.64088237e-03,  4.89857094e-03, -3.97003721e-03,  2.59099733e-02,\n",
       "              -1.23667426e-03,  1.05556240e-02, -2.56483052e-02,  7.73878186e-04,\n",
       "               1.86279751e-02,  4.06037347e-04, -2.61582043e-02, -2.18266807e-02,\n",
       "              -1.80391576e-02,  9.89230629e-03, -5.47543215e-03, -1.95462839e-03,\n",
       "               2.72934958e-02,  1.26755063e-03,  1.67852733e-02,  1.09249922e-02,\n",
       "               9.90585610e-03,  2.27359869e-03, -7.63595926e-06, -8.51603877e-03,\n",
       "              -1.93070266e-02,  3.70196230e-03,  4.07893844e-02, -1.15515152e-03,\n",
       "               1.18500106e-02, -3.26482132e-02,  3.34995762e-02,  6.57147821e-03,\n",
       "               6.21572416e-03, -1.59879215e-02,  1.96841476e-03, -3.57587934e-02,\n",
       "               1.66971367e-04,  1.61908343e-02,  1.40246202e-03,  4.43964191e-02,\n",
       "               1.09782359e-02, -1.99936200e-02,  5.53178135e-03,  2.54033804e-02,\n",
       "               1.29915923e-02,  2.14625280e-02,  2.14145146e-02, -7.52345659e-03,\n",
       "               1.52117740e-02,  1.25028938e-02, -1.41928680e-02, -2.91078035e-02,\n",
       "              -5.49122691e-03,  5.00059780e-03, -8.59399512e-03,  6.97099790e-03,\n",
       "               7.51811685e-03,  4.01822478e-02, -1.87114198e-02,  2.31585102e-04,\n",
       "              -2.06082892e-02, -8.66520125e-03,  9.46096145e-03,  2.65263934e-02,\n",
       "               4.21711802e-02,  1.67268515e-02,  2.41470281e-02, -1.25142150e-02,\n",
       "              -1.61493309e-02, -3.70597914e-02, -1.92282237e-02, -6.96762977e-03,\n",
       "              -1.33759226e-03,  5.04392479e-03,  1.38385706e-02,  2.15283278e-02,\n",
       "              -5.18060662e-03, -4.53519216e-03, -1.83442160e-02,  1.97986234e-03,\n",
       "               1.97071154e-02,  1.58280898e-02, -5.39471582e-03,  1.41822547e-02,\n",
       "              -2.86509786e-02, -1.02858096e-02, -1.58971583e-03, -1.90692786e-02,\n",
       "               1.40361870e-02, -3.39933708e-02,  1.33467000e-02,  2.86901277e-03],\n",
       "             dtype=float32)                                                       ],\n",
       "      dtype=object)"
      ]
     },
     "execution_count": 20,
     "metadata": {},
     "output_type": "execute_result"
    }
   ],
   "source": [
    "X_train[:2]"
   ]
  },
  {
   "cell_type": "code",
   "execution_count": 21,
   "id": "ddb12f7f",
   "metadata": {},
   "outputs": [],
   "source": [
    "# reshaping X_train and X_test \n",
    "import numpy as np\n",
    "\n",
    "X_train_2d = np.stack(X_train)\n",
    "X_test_2d  = np.stack(X_test)"
   ]
  },
  {
   "cell_type": "code",
   "execution_count": 22,
   "id": "7fe38254",
   "metadata": {},
   "outputs": [
    {
     "name": "stdout",
     "output_type": "stream",
     "text": [
      "              precision    recall  f1-score   support\n",
      "\n",
      "           0       0.98      0.97      0.98      1000\n",
      "           1       0.97      0.98      0.98       980\n",
      "\n",
      "    accuracy                           0.98      1980\n",
      "   macro avg       0.98      0.98      0.98      1980\n",
      "weighted avg       0.98      0.98      0.98      1980\n",
      "\n"
     ]
    }
   ],
   "source": [
    "# Applying Gradient Booster Classifier \n",
    "from sklearn.ensemble import GradientBoostingClassifier\n",
    "from sklearn.metrics import classification_report\n",
    "\n",
    "clf = GradientBoostingClassifier()\n",
    "clf.fit(X_train_2d, y_train)\n",
    "\n",
    "y_pred = clf.predict(X_test_2d)\n",
    "\n",
    "print(classification_report(y_test, y_pred))"
   ]
  },
  {
   "cell_type": "code",
   "execution_count": 24,
   "id": "22f10c5a",
   "metadata": {},
   "outputs": [
    {
     "data": {
      "text/plain": [
       "Text(33.22222222222222, 0.5, 'Truth')"
      ]
     },
     "execution_count": 24,
     "metadata": {},
     "output_type": "execute_result"
    },
    {
     "data": {
      "image/png": "[encoded data removed]",
      "text/plain": [
       "<Figure size 500x400 with 2 Axes>"
      ]
     },
     "metadata": {},
     "output_type": "display_data"
    }
   ],
   "source": [
    "from sklearn.metrics import confusion_matrix\n",
    "import seaborn as sns\n",
    "from matplotlib import pyplot as plt\n",
    "cm = confusion_matrix(y_test, y_pred)\n",
    "plt.figure(figsize = (5,4))\n",
    "sns.heatmap(cm, annot=True, fmt='d')\n",
    "plt.xlabel('Prediction')\n",
    "plt.ylabel('Truth')"
   ]
  },
  {
   "cell_type": "code",
   "execution_count": 25,
   "id": "4c8c089c",
   "metadata": {},
   "outputs": [],
   "source": [
    "model_classifier = clf.fit(X_train_2d, y_train)"
   ]
  },
  {
   "cell_type": "code",
   "execution_count": 26,
   "id": "8c293ad2",
   "metadata": {},
   "outputs": [
    {
     "data": {
      "text/plain": [
       "array([1, 0, 0], dtype=int64)"
      ]
     },
     "execution_count": 26,
     "metadata": {},
     "output_type": "execute_result"
    }
   ],
   "source": [
    "test_news = [\n",
    "    \"Michigan governor denies misleading U.S. House on Flint water (Reuters) - Michigan Governor Rick Snyder denied Thursday that he had misled a U.S. House of Representatives committee last year over testimony on Flintâ€™s water crisis after lawmakers asked if his testimony had been contradicted by a witness in a court hearing. The House Oversight and Government Reform Committee wrote Snyder earlier Thursday asking him about published reports that one of his aides, Harvey Hollins, testified in a court hearing last week in Michigan that he had notified Snyder of an outbreak of Legionnairesâ€™ disease linked to the Flint water crisis in December 2015, rather than 2016 as Snyder had testified. â€œMy testimony was truthful and I stand by it,â€ Snyder told the committee in a letter, adding that his office has provided tens of thousands of pages of records to the committee and would continue to cooperate fully.  Last week, prosecutors in Michigan said Dr. Eden Wells, the stateâ€™s chief medical executive who already faced lesser charges, would become the sixth current or former official to face involuntary manslaughter charges in connection with the crisis. The charges stem from more than 80 cases of Legionnairesâ€™ disease and at least 12 deaths that were believed to be linked to the water in Flint after the city switched its source from Lake Huron to the Flint River in April 2014. Wells was among six current and former Michigan and Flint officials charged in June. The other five, including Michigan Health and Human Services Director Nick Lyon, were charged at the time with involuntary manslaughter\",\n",
    "    \" WATCH: Fox News Host Loses Her Sh*t, Says Investigating Russia For Hacking Our Election Is Unpatriotic This woman is insane.In an incredibly disrespectful rant against President Obama and anyone else who supports investigating Russian interference in our election, Fox News host Jeanine Pirro said that anybody who is against Donald Trump is anti-American. Look, it s time to take sides,  she began.\",\n",
    "    \" Sarah Palin Celebrates After White Man Who Pulled Gun On Black Protesters Goes Unpunished (VIDEO) Sarah Palin, one of the nigh-innumerable  deplorables  in Donald Trump s  basket,  almost outdid herself in terms of horribleness on Friday.\"\n",
    "]\n",
    "\n",
    "pred = [preprocess_and_vectorize(i) for i in test_news]\n",
    "model_classifier.predict(pred)"
   ]
  },
  {
   "cell_type": "code",
   "execution_count": 27,
   "id": "e1fef57a",
   "metadata": {},
   "outputs": [],
   "source": [
    "import pickle\n",
    "\n",
    "filename = 'fake_news_classifier.sav'\n",
    "pickle.dump(model_classifier, open(filename, 'wb'))"
   ]
  },
  {
   "cell_type": "code",
   "execution_count": 30,
   "id": "7eaa5fe5",
   "metadata": {},
   "outputs": [],
   "source": [
    "load_model = pickle.load(open('fake_news_classifier.sav', 'rb'))"
   ]
  },
  {
   "cell_type": "code",
   "execution_count": 31,
   "id": "0dab71e2",
   "metadata": {},
   "outputs": [
    {
     "data": {
      "text/plain": [
       "array([1, 0, 0], dtype=int64)"
      ]
     },
     "execution_count": 31,
     "metadata": {},
     "output_type": "execute_result"
    }
   ],
   "source": [
    "test_news = [\n",
    "    \"Michigan governor denies misleading U.S. House on Flint water (Reuters) - Michigan Governor Rick Snyder denied Thursday that he had misled a U.S. House of Representatives committee last year over testimony on Flintâ€™s water crisis after lawmakers asked if his testimony had been contradicted by a witness in a court hearing. The House Oversight and Government Reform Committee wrote Snyder earlier Thursday asking him about published reports that one of his aides, Harvey Hollins, testified in a court hearing last week in Michigan that he had notified Snyder of an outbreak of Legionnairesâ€™ disease linked to the Flint water crisis in December 2015, rather than 2016 as Snyder had testified. â€œMy testimony was truthful and I stand by it,â€ Snyder told the committee in a letter, adding that his office has provided tens of thousands of pages of records to the committee and would continue to cooperate fully.  Last week, prosecutors in Michigan said Dr. Eden Wells, the stateâ€™s chief medical executive who already faced lesser charges, would become the sixth current or former official to face involuntary manslaughter charges in connection with the crisis. The charges stem from more than 80 cases of Legionnairesâ€™ disease and at least 12 deaths that were believed to be linked to the water in Flint after the city switched its source from Lake Huron to the Flint River in April 2014. Wells was among six current and former Michigan and Flint officials charged in June. The other five, including Michigan Health and Human Services Director Nick Lyon, were charged at the time with involuntary manslaughter\",\n",
    "    \" WATCH: Fox News Host Loses Her Sh*t, Says Investigating Russia For Hacking Our Election Is Unpatriotic This woman is insane.In an incredibly disrespectful rant against President Obama and anyone else who supports investigating Russian interference in our election, Fox News host Jeanine Pirro said that anybody who is against Donald Trump is anti-American. Look, it s time to take sides,  she began.\",\n",
    "    \" Sarah Palin Celebrates After White Man Who Pulled Gun On Black Protesters Goes Unpunished (VIDEO) Sarah Palin, one of the nigh-innumerable  deplorables  in Donald Trump s  basket,  almost outdid herself in terms of horribleness on Friday.\"\n",
    "]\n",
    "\n",
    "pred = [preprocess_and_vectorize(i) for i in test_news]\n",
    "load_model.predict(pred)"
   ]
  },
  {
   "cell_type": "code",
   "execution_count": null,
   "id": "ebb182d1",
   "metadata": {},
   "outputs": [],
   "source": []
  }
 ],
 "metadata": {
  "kernelspec": {
   "display_name": "Python 3 (ipykernel)",
   "language": "python",
   "name": "python3"
  },
  "language_info": {
   "codemirror_mode": {
    "name": "ipython",
    "version": 3
   },
   "file_extension": ".py",
   "mimetype": "text/x-python",
   "name": "python",
   "nbconvert_exporter": "python",
   "pygments_lexer": "ipython3",
   "version": "3.9.13"
  }
 },
 "nbformat": 4,
 "nbformat_minor": 5
}
